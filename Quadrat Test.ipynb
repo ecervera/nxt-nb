{
 "cells": [
  {
   "cell_type": "markdown",
   "metadata": {},
   "source": [
    "[<img src=\"img/bart-simpson-chalkboard.jpg\" width=\"300\" align=\"right\">](http://imagegenerator.org/signs/sign-generator/?color=honeydew&shadecolor=&watermark=&gradient=&spacing=&move=86&move2=68&rot=&fontsize=16&text=+I+will+write+these+dumb+lines.%0D%0AI+will+write+these+dumb+lines.%0D%0AI+might+write+these+dumb+lines.%0D%0AI+will+not+write+the+dumb+lines.%0D%0AEAT+MY+SHORTS!+HAHAH!&font=chalk&pic=bart-simpson-chalkboard)\n",
    "# Test del quadrat\n",
    "\n",
    "A partir de les instruccions dels moviments bàsics, heu de fer un programa per a que el robot avance i gire 90 graus, de manera de faça una trajectòria quadrada.\n",
    "\n",
    "L'estratègia és simple: repetiu quatre vegades el codi necessari per a fer avançar el robot un temps, i girar (a l'esquerra o a la dreta).\n",
    "\n",
    "Abans que res, no oblideu connectar-vos al *brick*!"
   ]
  },
  {
   "cell_type": "code",
   "execution_count": null,
   "metadata": {
    "collapsed": false
   },
   "outputs": [],
   "source": [
    "from packages.nxt import *\n",
    "from  time import sleep\n",
    "\n",
    "brick = connectar(12)\n",
    "motor_B = Motor(brick, PORT_B)\n",
    "motor_C = Motor(brick, PORT_C)"
   ]
  },
  {
   "cell_type": "markdown",
   "metadata": {},
   "source": [
    "Ara heu de copiar en la cel·la següent el codi per a fer avançar i girar el robot (quatre vegades!).\n",
    "\n",
    "No oblideu parar els dos motors al final!"
   ]
  },
  {
   "cell_type": "code",
   "execution_count": null,
   "metadata": {
    "collapsed": false
   },
   "outputs": [],
   "source": [
    "motor_B.run(-100)\n",
    "motor_C.run(100)\n",
    "sleep(1)\n",
    "motor_B.brake()\n",
    "sleep(2)\n",
    "\n",
    "motor_B.run(-100)\n",
    "sleep(1)\n",
    "motor_B.brake()\n",
    "sleep(2)\n",
    "\n",
    "motor_B.run(-100)\n",
    "sleep(1)\n",
    "motor_B.brake()\n",
    "sleep(2)\n",
    "\n",
    "motor_B.run(-100)\n",
    "sleep(1)\n",
    "motor_B.brake()\n",
    "sleep(2)\n",
    "\n",
    "motor_C.brake()"
   ]
  },
  {
   "cell_type": "markdown",
   "metadata": {},
   "source": [
    "Podeu canviar el temps de gir, per a que l'angle girat s'aproxime a 90 graus.\n",
    "\n",
    "Un cop finalitzat, desconnecteu el *brick*."
   ]
  },
  {
   "cell_type": "code",
   "execution_count": null,
   "metadata": {
    "collapsed": false
   },
   "outputs": [],
   "source": [
    "desconnectar(brick)"
   ]
  },
  {
   "cell_type": "code",
   "execution_count": null,
   "metadata": {
    "collapsed": true
   },
   "outputs": [],
   "source": []
  }
 ],
 "metadata": {
  "kernelspec": {
   "display_name": "Python 3",
   "language": "python",
   "name": "python3"
  },
  "language_info": {
   "codemirror_mode": {
    "name": "ipython",
    "version": 3
   },
   "file_extension": ".py",
   "mimetype": "text/x-python",
   "name": "python",
   "nbconvert_exporter": "python",
   "pygments_lexer": "ipython3",
   "version": "3.5.2"
  }
 },
 "nbformat": 4,
 "nbformat_minor": 2
}
