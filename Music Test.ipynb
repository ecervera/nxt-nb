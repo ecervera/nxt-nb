{
 "cells": [
  {
   "cell_type": "code",
   "execution_count": null,
   "metadata": {
    "collapsed": true
   },
   "outputs": [],
   "source": [
    "from packages.nxt import *"
   ]
  },
  {
   "cell_type": "code",
   "execution_count": null,
   "metadata": {
    "collapsed": false
   },
   "outputs": [],
   "source": [
    "brick = connectar(5)"
   ]
  },
  {
   "cell_type": "code",
   "execution_count": null,
   "metadata": {
    "collapsed": false
   },
   "outputs": [],
   "source": [
    "Musica(brick)"
   ]
  },
  {
   "cell_type": "code",
   "execution_count": null,
   "metadata": {
    "collapsed": false
   },
   "outputs": [],
   "source": [
    "Do()"
   ]
  },
  {
   "cell_type": "code",
   "execution_count": null,
   "metadata": {
    "collapsed": false
   },
   "outputs": [],
   "source": [
    "Re()"
   ]
  },
  {
   "cell_type": "code",
   "execution_count": null,
   "metadata": {
    "collapsed": true
   },
   "outputs": [],
   "source": [
    "Mi()"
   ]
  },
  {
   "cell_type": "code",
   "execution_count": null,
   "metadata": {
    "collapsed": true
   },
   "outputs": [],
   "source": [
    "Fa()"
   ]
  },
  {
   "cell_type": "code",
   "execution_count": null,
   "metadata": {
    "collapsed": true
   },
   "outputs": [],
   "source": [
    "Sol()"
   ]
  },
  {
   "cell_type": "code",
   "execution_count": null,
   "metadata": {
    "collapsed": true
   },
   "outputs": [],
   "source": [
    "La()"
   ]
  },
  {
   "cell_type": "code",
   "execution_count": null,
   "metadata": {
    "collapsed": false
   },
   "outputs": [],
   "source": [
    "Si()"
   ]
  },
  {
   "cell_type": "code",
   "execution_count": null,
   "metadata": {
    "collapsed": false
   },
   "outputs": [],
   "source": [
    "Do(octava=1)"
   ]
  },
  {
   "cell_type": "markdown",
   "metadata": {},
   "source": [
    "![](img/partitura.gif)"
   ]
  },
  {
   "cell_type": "code",
   "execution_count": null,
   "metadata": {
    "collapsed": false
   },
   "outputs": [],
   "source": [
    "La(1/2), Si_bemol(1/2)\n",
    "Do(octava=1), La()\n",
    "Fa(), Si_bemol(1/2), La(1/2)\n",
    "Sol(1/2), Fa(1/2), Sol(1/2), Sol(1/2)\n",
    "\n",
    "La(1/2), Fa(1/2), La(1/2), Si_bemol(1/2)\n",
    "Do(octava=1), La()\n",
    "Fa(), Si_bemol(1/2), La(1/2)\n",
    "Sol(1/2), Fa(1/2), Sol(1/2), La(1/2)\n",
    "Fa()"
   ]
  },
  {
   "cell_type": "markdown",
   "metadata": {},
   "source": [
    "![](img/joan_petit.png)"
   ]
  },
  {
   "cell_type": "code",
   "execution_count": null,
   "metadata": {
    "collapsed": false
   },
   "outputs": [],
   "source": [
    "Sol(1/2), Do(1/2+1/4,octava=1), Do(1/4,octava=1), Do(1/2,octava=1), Do(1/2,octava=1)\n",
    "Do(octava=1), Do(octava=1)\n",
    "Sol(1/2), Sol(1/2), Sol(1/2), Sol(1/2)\n",
    "Mi(octava=1), Do(1/2,octava=1), Sol(1/2)\n",
    "\n",
    "Do(1/2+1/4,octava=1), Do(1/4,octava=1), Do(1/2,octava=1), Do(1/2,octava=1)\n",
    "Do(octava=1), Do(octava=1)\n",
    "Sol(1/2), Sol(1/2), La(1/2), Si(1/2)\n",
    "Do(1/2,octava=1), Silenci(1/2), Sol(1/2), Sol(1/2)\n",
    "\n",
    "Mi(octava=1), Re(octava=1)\n",
    "Do(1/2,octava=1), Silenci(1/2), Do(1/2,octava=1), Do(1/2,octava=1)\n",
    "Sol(1/2), Sol(1/2), La(1/2), Si(1/2)\n",
    "Do(1,octava=1)"
   ]
  },
  {
   "cell_type": "code",
   "execution_count": null,
   "metadata": {
    "collapsed": true
   },
   "outputs": [],
   "source": [
    "desconnectar(brick)"
   ]
  },
  {
   "cell_type": "code",
   "execution_count": null,
   "metadata": {
    "collapsed": true
   },
   "outputs": [],
   "source": []
  }
 ],
 "metadata": {
  "kernelspec": {
   "display_name": "Python 3",
   "language": "python",
   "name": "python3"
  },
  "language_info": {
   "codemirror_mode": {
    "name": "ipython",
    "version": 3
   },
   "file_extension": ".py",
   "mimetype": "text/x-python",
   "name": "python",
   "nbconvert_exporter": "python",
   "pygments_lexer": "ipython3",
   "version": "3.5.2"
  }
 },
 "nbformat": 4,
 "nbformat_minor": 2
}
