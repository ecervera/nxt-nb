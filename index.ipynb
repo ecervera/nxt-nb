{
 "cells": [
  {
   "cell_type": "markdown",
   "metadata": {},
   "source": [
    "# NXT Notebooks\n",
    "\n",
    "* [Test de connexió](Connecta Test.ipynb)\n",
    "* [Test dels motors](Motor Test.ipynb)\n",
    "* [Test del quadrat](Quadrat Test.ipynb)\n",
    "* [Test de la parla](Sound Test.ipynb)\n",
    "* [Test de música](Music Test.ipynb)\n",
    "* [Test de ball](Dance Test.ipynb)\n",
    "* [Test dels sensors](Sensor Test.ipynb)"
   ]
  },
  {
   "cell_type": "code",
   "execution_count": null,
   "metadata": {
    "collapsed": true
   },
   "outputs": [],
   "source": []
  }
 ],
 "metadata": {
  "kernelspec": {
   "display_name": "Python 3",
   "language": "python",
   "name": "python3"
  },
  "language_info": {
   "codemirror_mode": {
    "name": "ipython",
    "version": 3
   },
   "file_extension": ".py",
   "mimetype": "text/x-python",
   "name": "python",
   "nbconvert_exporter": "python",
   "pygments_lexer": "ipython3",
   "version": "3.5.2"
  }
 },
 "nbformat": 4,
 "nbformat_minor": 2
}
