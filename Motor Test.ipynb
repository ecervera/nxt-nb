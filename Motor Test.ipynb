{
 "cells": [
  {
   "cell_type": "markdown",
   "metadata": {},
   "source": [
    "# Test dels motors\n",
    "\n",
    "[<img src=\"https://upload.wikimedia.org/wikipedia/commons/thumb/c/cc/Nxt-brique.jpg/185px-Nxt-brique.jpg\" align=\"right\">](https://en.wikipedia.org/wiki/Lego_Mindstorms_NXT#NXT_Intelligent_Brick)\n",
    "El codi següent permet provar els moviments bàsics del robot:\n",
    "* anar cap avant\n",
    "* anar cap enrere\n",
    "* girar a l'esquerra\n",
    "* girar a la dreta\n",
    "\n",
    "A cada moviment, caldrà donar una potència diferent als motors.\n",
    "\n",
    "Però abans que res, cal connectar-se al *brick* (anomenem així la [*controladora de Lego Mindstorms NXT*](https://en.wikipedia.org/wiki/Lego_Mindstorms_NXT#NXT_Intelligent_Brick)).\n",
    "\n",
    "### Connectar"
   ]
  },
  {
   "cell_type": "code",
   "execution_count": null,
   "metadata": {
    "collapsed": true
   },
   "outputs": [],
   "source": [
    "from packages.nxt import *\n",
    "from time import sleep"
   ]
  },
  {
   "cell_type": "markdown",
   "metadata": {},
   "source": [
    "Cal indicar el número de la nostra controladora."
   ]
  },
  {
   "cell_type": "code",
   "execution_count": null,
   "metadata": {
    "collapsed": false
   },
   "outputs": [],
   "source": [
    "brick = connectar(12)"
   ]
  },
  {
   "cell_type": "markdown",
   "metadata": {},
   "source": [
    "Segons el muntatge, el motor esquerre està connectat a l'entrada o *port* Bm i el motor dret al C."
   ]
  },
  {
   "cell_type": "code",
   "execution_count": null,
   "metadata": {
    "collapsed": true
   },
   "outputs": [],
   "source": [
    "motor_B = Motor(brick, PORT_B)\n",
    "motor_C = Motor(brick, PORT_C)"
   ]
  },
  {
   "cell_type": "markdown",
   "metadata": {
    "collapsed": false
   },
   "source": [
    "### Anar cap avant\n",
    "\n",
    "Per a moure el robot, cal fer tres coses:\n",
    "\n",
    "1. donar valors de potència a cadascun dels motors (entre -100 i 100)\n",
    "2. esperar un temps per a què el robot avance\n",
    "3. parar els motors"
   ]
  },
  {
   "cell_type": "code",
   "execution_count": null,
   "metadata": {
    "collapsed": false
   },
   "outputs": [],
   "source": [
    "motor_B.run(-100)\n",
    "motor_C.run(100)\n",
    "sleep(3)\n",
    "motor_B.brake()\n",
    "motor_C.brake()"
   ]
  },
  {
   "cell_type": "markdown",
   "metadata": {},
   "source": [
    "##### Per què un valor és positiu i l'altre negatiu?\n",
    "\n",
    "[<img src=\"https://upload.wikimedia.org/wikipedia/commons/7/75/Sentit_horari.gif\" align=\"right\">](https://ca.wikipedia.org/wiki/Sentit_horari)\n",
    "El motor pot girar en dos sentits, i el signe positiu o negatiu de la potència indica el sentit de gir.\n",
    "\n",
    "Amb el muntatge del disseny, els valors **positius** fan girar el motor **en el sentit de les agulles del rellotge** i els valors **negatius** en sentit **contrari**.\n",
    "\n",
    "Si vos fixeu, per a anar cap avant, el motor dret (C) ha de girar en el sentit de les agulles del rellotge, i l'esquerre (B) en sentit contrari."
   ]
  },
  {
   "cell_type": "markdown",
   "metadata": {},
   "source": [
    "### Anar cap enrere\n",
    "\n",
    "Les instruccions són les mateixes, canviant només el sentit de gir dels motors."
   ]
  },
  {
   "cell_type": "code",
   "execution_count": null,
   "metadata": {
    "collapsed": false
   },
   "outputs": [],
   "source": [
    "motor_B.run(100)\n",
    "motor_C.run(-100)\n",
    "sleep(3)\n",
    "motor_B.brake()\n",
    "motor_C.brake()"
   ]
  },
  {
   "cell_type": "markdown",
   "metadata": {},
   "source": [
    "### Girar a l'esquerra\n",
    "\n",
    "Només és necessari girar el motor dret com si el robot avançara."
   ]
  },
  {
   "cell_type": "code",
   "execution_count": null,
   "metadata": {
    "collapsed": false
   },
   "outputs": [],
   "source": [
    "motor_C.run(100)\n",
    "sleep(3)\n",
    "motor_C.brake()"
   ]
  },
  {
   "cell_type": "markdown",
   "metadata": {},
   "source": [
    "### Girar a la dreta\n",
    "\n",
    "Ara és el motor esquerre el que avança."
   ]
  },
  {
   "cell_type": "code",
   "execution_count": null,
   "metadata": {
    "collapsed": false
   },
   "outputs": [],
   "source": [
    "motor_B.run(-100)\n",
    "sleep(3)\n",
    "motor_B.brake()"
   ]
  },
  {
   "cell_type": "markdown",
   "metadata": {},
   "source": [
    "### Desconnectar\n",
    "\n",
    "Per acabar, abans de passar a un altre programa, cal desconnectar-se del brick."
   ]
  },
  {
   "cell_type": "code",
   "execution_count": null,
   "metadata": {
    "collapsed": true
   },
   "outputs": [],
   "source": [
    "desconnectar(brick)"
   ]
  },
  {
   "cell_type": "code",
   "execution_count": null,
   "metadata": {
    "collapsed": true
   },
   "outputs": [],
   "source": []
  }
 ],
 "metadata": {
  "kernelspec": {
   "display_name": "Python 3",
   "language": "python",
   "name": "python3"
  },
  "language_info": {
   "codemirror_mode": {
    "name": "ipython",
    "version": 3
   },
   "file_extension": ".py",
   "mimetype": "text/x-python",
   "name": "python",
   "nbconvert_exporter": "python",
   "pygments_lexer": "ipython3",
   "version": "3.5.2"
  }
 },
 "nbformat": 4,
 "nbformat_minor": 2
}
